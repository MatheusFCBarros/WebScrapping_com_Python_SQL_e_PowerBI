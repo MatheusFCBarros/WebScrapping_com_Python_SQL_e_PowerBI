{
 "cells": [
  {
   "cell_type": "markdown",
   "id": "958ac310",
   "metadata": {},
   "source": [
    "Aqui irei utilizar as funções que desenvolvi no outro notebook e desenvolver o projeto"
   ]
  },
  {
   "cell_type": "code",
   "execution_count": null,
   "id": "2e4ece7a",
   "metadata": {},
   "outputs": [],
   "source": [
    "# Importando bibliotecas\n",
    "\n",
    "import time\n",
    "import pandas as pd\n",
    "\n",
    "from urllib.error import URLError, HTTPError\n",
    "from urllib.request import Request, urlopen\n",
    "\n",
    "import bs4\n",
    "\n",
    "import ssl\n",
    "ssl._create_default_https_context = ssl._create_unverified_context"
   ]
  },
  {
   "cell_type": "code",
   "execution_count": null,
   "id": "30d02319",
   "metadata": {},
   "outputs": [],
   "source": [
    "# Informando o AGENTE\n",
    "\n",
    "agente = \"Mozilla/5.0 (Windows NT 10.0; Win64; x64) AppleWebKit/537.36 (KHTML, like Gecko) Chrome/91.0.4472.124 Safari/537.36\"\n",
    "headers = {'User-Agent': agente}"
   ]
  },
  {
   "cell_type": "code",
   "execution_count": null,
   "id": "3a71c42d",
   "metadata": {},
   "outputs": [],
   "source": [
    "# Chamar a página WEB\n",
    "\n",
    "def ConsultaWebB(url):\n",
    "    try:\n",
    "        req = Request(url, headers = headers)\n",
    "        response = urlopen(req)\n",
    "        return response.read()\n",
    "\n",
    "    except:\n",
    "        pass"
   ]
  },
  {
   "cell_type": "code",
   "execution_count": null,
   "id": "9728cf30",
   "metadata": {},
   "outputs": [],
   "source": [
    "# Pegar a página encontrada e transformar em um objeto utilizável\n",
    "\n",
    "def captura_html_pagina(url):\n",
    "    html = ConsultaWebB(url)\n",
    "    soup = bs4.BeautifulSoup(html, 'html.parser')    \n",
    "    return soup"
   ]
  },
  {
   "cell_type": "code",
   "execution_count": null,
   "id": "70b8783f",
   "metadata": {},
   "outputs": [],
   "source": [
    "# Capturar as informações da \"tabelinha cabeçalho\" da página\n",
    "\n",
    "def Cabecalho(html):\n",
    "    dt = html.find_all('dt')\n",
    "    dd = html.find_all('dd')\n",
    "    dic = {}\n",
    "    for i in range(len(dt)):\n",
    "        x = dt[i].get_text()\n",
    "        y = dd[i].get_text() \n",
    "        dic[x] = y\n",
    "    return dic"
   ]
  },
  {
   "cell_type": "code",
   "execution_count": null,
   "id": "6e951227",
   "metadata": {},
   "outputs": [],
   "source": [
    "# Capturar o conteúdo da página e transformar em um dicionário\n",
    "\n",
    "def Conteudo(proposicao, ano):\n",
    "    url = 'https://www.legislador.com.br//LegisladorWEB.ASP?WCI=ProposicaoTexto&ID=3&TPProposicao=1&nrProposicao='+str(proposicao)+'&aaProposicao='+str(ano)\n",
    "    html = captura_html_pagina(url)\n",
    "    dic = Cabecalho(html)\n",
    "    dic['Proposição'] = proposicao\n",
    "    dic['Ano'] = ano\n",
    "    dic['Texto'] = html.p.get_text()\n",
    "    return dic"
   ]
  },
  {
   "cell_type": "code",
   "execution_count": null,
   "id": "1db0e974",
   "metadata": {},
   "outputs": [],
   "source": [
    "def TabelaResultados(inicar_em, quantidade, ano, erros_admissiveis, segundos_espera):\n",
    "\n",
    "    ultima_consulta = inicar_em + quantidade - 1\n",
    "\n",
    "    # erros\n",
    "    erros = 0\n",
    "\n",
    "    # variaveis para loop\n",
    "    i = 1\n",
    "    lista = []\n",
    "\n",
    "    while inicar_em <= ultima_consulta and erros <= erros_admissiveis:\n",
    "\n",
    "        try:\n",
    "            x = Conteudo(inicar_em,ano)\n",
    "            lista = lista + [Conteudo(inicar_em,ano)]\n",
    "        except:\n",
    "            erros += 1\n",
    "            pass\n",
    "\n",
    "        time.sleep(segundos_espera)\n",
    "\n",
    "        # carregamento incremental das variáveis\n",
    "        inicar_em+=1 \n",
    "        i+=1\n",
    "\n",
    "\n",
    "    return pd.DataFrame(lista)"
   ]
  },
  {
   "cell_type": "code",
   "execution_count": null,
   "id": "731c7255",
   "metadata": {},
   "outputs": [],
   "source": [
    "teste = TabelaResultados(500,3,2021,2,0.2)\n",
    "teste"
   ]
  },
  {
   "cell_type": "markdown",
   "id": "04ac85bd",
   "metadata": {},
   "source": [
    "# <font color=green> 2. CRIANDO O BANCO DE DADOS E TABELAS"
   ]
  },
  {
   "cell_type": "markdown",
   "id": "65a83c91",
   "metadata": {},
   "source": [
    "> Primeiramente você precisa instalar o ``SQL Server`` e o ``Management Studio``"
   ]
  },
  {
   "cell_type": "code",
   "execution_count": null,
   "id": "910749d9",
   "metadata": {},
   "outputs": [],
   "source": [
    "# Lista com nome de colunas\n",
    "list(teste.columns)"
   ]
  },
  {
   "cell_type": "code",
   "execution_count": null,
   "id": "9b80c7d1",
   "metadata": {},
   "outputs": [],
   "source": [
    "# Lista com tipos de dados\n",
    "teste.dtypes"
   ]
  },
  {
   "cell_type": "markdown",
   "id": "c2d9f1d0",
   "metadata": {},
   "source": [
    ">  Montei o script, seguindo esse padrão:\n",
    "\n",
    "```sql\n",
    "CREATE TABLE Proposicoes (\n",
    "\n",
    "\tDataReuniao DATE,\n",
    "\tDataDeliberacao DATE,\n",
    "\tSituacao VARCHAR(200),\n",
    "\tAssunto VARCHAR(1000),\n",
    "\tAutor VARCHAR(1000),\n",
    "\tProposicao INT,\n",
    "\tAno INT,\n",
    "\tTexto VARCHAR(MAX)\n",
    "\n",
    ")\n",
    "```"
   ]
  },
  {
   "cell_type": "markdown",
   "id": "dc7d88dd",
   "metadata": {},
   "source": [
    "### 2.1 Alimentando Tabelas"
   ]
  },
  {
   "cell_type": "code",
   "execution_count": null,
   "id": "72f9904f",
   "metadata": {},
   "outputs": [],
   "source": [
    "# Biblioteca que conecta o Python ao SQL\n",
    "import pyodbc"
   ]
  },
  {
   "cell_type": "code",
   "execution_count": null,
   "id": "9252b292",
   "metadata": {},
   "outputs": [],
   "source": [
    "pyodbc.version\n",
    "# pip install pyodbc==4.0.30"
   ]
  },
  {
   "cell_type": "markdown",
   "id": "30915b02",
   "metadata": {},
   "source": [
    "Conectando ao banco"
   ]
  },
  {
   "cell_type": "code",
   "execution_count": null,
   "id": "0b51fcd0",
   "metadata": {},
   "outputs": [],
   "source": [
    "'''\n",
    "# Com senha\n",
    "conn = pyodbc.connect('Trusted_Connection=yes', \n",
    "                      driver = '{ODBC Driver 17 for SQL Server}',\n",
    "                      server = 'localhost', \n",
    "                      database = 'Indaial',\n",
    "                      UID='sa',\n",
    "                      PWD='SuaSenha')\n",
    "'''\n",
    "\n",
    "# Com autenticação do Windows\n",
    "conn = pyodbc.connect('Trusted_Connection=yes', \n",
    "                      driver = '{ODBC Driver 17 for SQL Server}',\n",
    "                      server = 'localhost', \n",
    "                      database = 'Indaial')\n",
    "\n",
    "query = '''\n",
    "    select \n",
    "        * \n",
    "    from Proposicoes\n",
    "'''\n",
    "sql_query = pd.read_sql_query(query,conn)\n",
    "sql_query"
   ]
  },
  {
   "cell_type": "code",
   "execution_count": null,
   "id": "efab01e2",
   "metadata": {},
   "outputs": [],
   "source": [
    "# Crio uma base\n",
    "base = pd.DataFrame(columns=['Reunião', 'Deliberação', 'Situação', 'Assunto', 'Autor', 'Proposição', 'Ano', 'Texto'])\n",
    "base"
   ]
  },
  {
   "cell_type": "code",
   "execution_count": null,
   "id": "4905f12c",
   "metadata": {},
   "outputs": [],
   "source": [
    "# \"Combino\" as bases\n",
    "base = base.append(teste)\n",
    "base"
   ]
  },
  {
   "cell_type": "code",
   "execution_count": null,
   "id": "935969fb",
   "metadata": {},
   "outputs": [],
   "source": [
    "base.fillna('')"
   ]
  },
  {
   "cell_type": "code",
   "execution_count": null,
   "id": "6dfb3d41",
   "metadata": {},
   "outputs": [],
   "source": [
    "base = pd.DataFrame(columns=['Reunião', 'Deliberação', 'Situação', 'Assunto', 'Autor', 'Proposição', 'Ano', 'Texto'])\n",
    "teste = base.append(teste).fillna('')\n",
    "\n",
    "conn = pyodbc.connect('Trusted_Connection=yes', \n",
    "                      driver = '{ODBC Driver 17 for SQL Server}',\n",
    "                      server = 'localhost', \n",
    "                      database = 'Indaial')\n",
    "\n",
    "cursor = conn.cursor()\n",
    "\n",
    "for index, row in teste.iterrows():\n",
    "    \n",
    "    cursor.execute('''\n",
    "    \n",
    "        INSERT INTO Proposicoes (\n",
    "            DataReuniao,\n",
    "            DataDeliberacao,\n",
    "            Situacao,\n",
    "            Assunto,\n",
    "            Autor,\n",
    "            Proposicao,\n",
    "            Ano,\n",
    "            Texto\n",
    "        ) \n",
    "        values(?,?,?,?,?,?,?,?)''', # mesma quantidade de variáveis\n",
    "\n",
    "        row['Reunião'], \n",
    "        row['Deliberação'], \n",
    "        row['Situação'], \n",
    "        row['Assunto'], \n",
    "        row['Autor'], \n",
    "        row['Proposição'], \n",
    "        row['Ano'], \n",
    "        row['Texto']\n",
    "\n",
    "    )\n",
    "\n",
    "conn.commit()\n",
    "cursor.close()"
   ]
  },
  {
   "cell_type": "markdown",
   "id": "eba82890",
   "metadata": {},
   "source": [
    "> E então..."
   ]
  },
  {
   "cell_type": "code",
   "execution_count": null,
   "id": "98eeb258",
   "metadata": {},
   "outputs": [],
   "source": [
    "conn = pyodbc.connect('Trusted_Connection=yes', \n",
    "                      driver = '{ODBC Driver 17 for SQL Server}',\n",
    "                      server = 'localhost', \n",
    "                      database = 'Indaial')\n",
    "\n",
    "query = '''\n",
    "    select \n",
    "        * \n",
    "    from Proposicoes\n",
    "'''\n",
    "sql_query = pd.read_sql_query(query,conn)\n",
    "sql_query"
   ]
  },
  {
   "cell_type": "code",
   "execution_count": null,
   "id": "3acb3910",
   "metadata": {},
   "outputs": [],
   "source": [
    "def SQLSelect(query):\n",
    "    \n",
    "    conn = pyodbc.connect('Trusted_Connection=yes', \n",
    "                          driver = '{ODBC Driver 17 for SQL Server}',\n",
    "                          server = 'localhost', \n",
    "                          database = 'Indaial')\n",
    "\n",
    "    out = pd.read_sql_query(query,conn)\n",
    "    return out"
   ]
  },
  {
   "cell_type": "code",
   "execution_count": null,
   "id": "001dd976",
   "metadata": {},
   "outputs": [],
   "source": [
    "SQLSelect('''\n",
    "    select \n",
    "        *\n",
    "    from Proposicoes\n",
    "''')"
   ]
  },
  {
   "cell_type": "markdown",
   "id": "06425ba6",
   "metadata": {},
   "source": [
    "> Crio uma função para fazer a inserção dos dados na tabela ``Proposicoes``."
   ]
  },
  {
   "cell_type": "code",
   "execution_count": null,
   "id": "4d8d6e5d",
   "metadata": {},
   "outputs": [],
   "source": [
    "def SQLInsertProposicoes(TabelaProposicoes):\n",
    "    \n",
    "    base = pd.DataFrame(columns=['Reunião', 'Deliberação', 'Situação', 'Assunto', 'Autor', 'Proposição', 'Ano', 'Texto'])\n",
    "    TabelaProposicoes = base.append(TabelaProposicoes).fillna('')\n",
    "\n",
    "    conn = pyodbc.connect('Trusted_Connection=yes', \n",
    "                          driver = '{ODBC Driver 17 for SQL Server}',\n",
    "                          server = 'localhost', \n",
    "                          database = 'Indaial')\n",
    "\n",
    "    cursor = conn.cursor()\n",
    "\n",
    "    for index, row in TabelaProposicoes.iterrows():\n",
    "\n",
    "        cursor.execute('''\n",
    "\n",
    "            INSERT INTO Proposicoes (\n",
    "                DataReuniao,\n",
    "                DataDeliberacao,\n",
    "                Situacao,\n",
    "                Assunto,\n",
    "                Autor,\n",
    "                Proposicao,\n",
    "                Ano,\n",
    "                Texto\n",
    "            ) \n",
    "            values(?,?,?,?,?,?,?,?)''', \n",
    "\n",
    "            row['Reunião'], \n",
    "            row['Deliberação'], \n",
    "            row['Situação'], \n",
    "            row['Assunto'], \n",
    "            row['Autor'], \n",
    "            row['Proposição'], \n",
    "            row['Ano'], \n",
    "            row['Texto']\n",
    "\n",
    "        )\n",
    "\n",
    "    conn.commit()\n",
    "    cursor.close()"
   ]
  },
  {
   "cell_type": "code",
   "execution_count": null,
   "id": "69372839",
   "metadata": {},
   "outputs": [],
   "source": [
    "SQLInsertProposicoes(teste)"
   ]
  },
  {
   "cell_type": "code",
   "execution_count": null,
   "id": "e73604d4",
   "metadata": {},
   "outputs": [],
   "source": [
    "SQLSelect('''\n",
    "    select \n",
    "        *\n",
    "    from Proposicoes\n",
    "''')"
   ]
  },
  {
   "cell_type": "code",
   "execution_count": null,
   "id": "ff6e0b29",
   "metadata": {},
   "outputs": [],
   "source": [
    "def SQLTruncate(NomeTabela):\n",
    "\n",
    "    conn = pyodbc.connect('Trusted_Connection=yes', \n",
    "                          driver = '{ODBC Driver 17 for SQL Server}',\n",
    "                          server = 'localhost', \n",
    "                          database = 'Indaial')\n",
    "\n",
    "    cursor = conn.cursor()\n",
    "\n",
    "    cursor.execute(f'''\n",
    "\n",
    "                   TRUNCATE TABLE {NomeTabela}\n",
    "\n",
    "                   ''')\n",
    "\n",
    "    conn.commit()\n",
    "    cursor.close()"
   ]
  },
  {
   "cell_type": "code",
   "execution_count": null,
   "id": "19f887c3",
   "metadata": {},
   "outputs": [],
   "source": [
    "# Limpando dados da tabela\n",
    "SQLTruncate('Proposicoes')\n",
    "\n",
    "# Visualizando a tabela\n",
    "SQLSelect('select *from Proposicoes')"
   ]
  },
  {
   "cell_type": "markdown",
   "id": "c682e363",
   "metadata": {},
   "source": [
    "> Agora que sei CRIAR, LIMPAR, e SELECIONAR dados de uma tabela via SQL, posso automatizar a inserção de dados nela"
   ]
  },
  {
   "cell_type": "markdown",
   "id": "d7b6a85e",
   "metadata": {},
   "source": [
    "# <font color=green> 3. ALIMENTAÇÃO INCREMENTAL"
   ]
  },
  {
   "cell_type": "markdown",
   "id": "00741fcd",
   "metadata": {},
   "source": [
    "### 3.1 MODIFICANDO A FUNÇÃO DE BUSCA"
   ]
  },
  {
   "cell_type": "code",
   "execution_count": null,
   "id": "75968971",
   "metadata": {},
   "outputs": [],
   "source": [
    "# Limpar os dados da tabela só pra demonstração\n",
    "#SQLTruncate('Proposicoes')\n",
    "\n",
    "\n",
    "# ========= INICIO =========\n",
    "proposicao = 203\n",
    "ano = 2021\n",
    "dados = Conteudo(proposicao,ano)\n",
    "tabela = pd.DataFrame([dados])\n",
    "SQLInsertProposicoes(tabela)\n",
    "# ========= FIM =========\n",
    "\n",
    "\n",
    "# visualizando dados\n",
    "SQLSelect(f'select * from Proposicoes where Proposicao = {proposicao} and Ano = {ano}')"
   ]
  },
  {
   "cell_type": "markdown",
   "id": "d3326ae8",
   "metadata": {},
   "source": [
    "> Pensando em atualização incremental, cada consulta, tem que ser ``proposicao_anterior + 1``"
   ]
  },
  {
   "cell_type": "code",
   "execution_count": null,
   "id": "e1180189",
   "metadata": {},
   "outputs": [],
   "source": [
    "# ========= INICIO =========\n",
    "ano = 2021\n",
    "\n",
    "dados_ano = SQLSelect(f'select Proposicao = max(Proposicao) from Proposicoes where Ano = {ano}')\n",
    "ultima_proposicao = dados_ano['Proposicao'].loc[0]\n",
    "\n",
    "proxima_proposicao = int(ultima_proposicao) + 1\n",
    "\n",
    "dados = Conteudo(proxima_proposicao,ano)\n",
    "tabela = pd.DataFrame([dados])\n",
    "SQLInsertProposicoes(tabela)\n",
    "# ========= FIM =========\n",
    "\n",
    "\n",
    "# visualizando dados\n",
    "SQLSelect('select * from Proposicoes')"
   ]
  },
  {
   "cell_type": "code",
   "execution_count": null,
   "id": "0a3539b8",
   "metadata": {},
   "outputs": [],
   "source": [
    "# Limpando dados da tabela\n",
    "SQLTruncate('Proposicoes')\n",
    "\n",
    "# Visualizando a tabela\n",
    "SQLSelect('select *from Proposicoes')"
   ]
  },
  {
   "cell_type": "markdown",
   "id": "4b9eeb41",
   "metadata": {},
   "source": [
    "Porém a fórmula acima apresenta um problema, caso a tabela esteja vazia."
   ]
  },
  {
   "cell_type": "markdown",
   "id": "7e040ea9",
   "metadata": {},
   "source": [
    "Então para corrigir isso"
   ]
  },
  {
   "cell_type": "code",
   "execution_count": null,
   "id": "b9ddaabb",
   "metadata": {},
   "outputs": [],
   "source": [
    "# ========= INICIO =========\n",
    "ano = 2021\n",
    "\n",
    "dados_ano = SQLSelect(f'select Proposicao = max(Proposicao) from Proposicoes where Ano = {ano}')\n",
    "ultima_proposicao = dados_ano['Proposicao'].loc[0]\n",
    "\n",
    "\n",
    "# ----- INICIO ALTERAÇÃO ----- \n",
    "if ultima_proposicao == None:\n",
    "    proxima_proposicao = 1\n",
    "else:\n",
    "    proxima_proposicao = int(ultima_proposicao) + 1 \n",
    "# ----- FIM ALTERAÇÃO ----- \n",
    "\n",
    "\n",
    "dados = Conteudo(proxima_proposicao,ano)\n",
    "tabela = pd.DataFrame([dados])\n",
    "SQLInsertProposicoes(tabela)\n",
    "# ========= FIM =========\n",
    "\n",
    "\n",
    "# visualizando dados\n",
    "SQLSelect('select * from Proposicoes')"
   ]
  },
  {
   "cell_type": "markdown",
   "id": "4ee8e1f3",
   "metadata": {},
   "source": [
    "Essa função vai funcionar muito bem enquanto não chega na ultima proposição.\n"
   ]
  },
  {
   "cell_type": "code",
   "execution_count": null,
   "id": "c9409e80",
   "metadata": {},
   "outputs": [],
   "source": [
    "def InsereProximaProposicao(ano):\n",
    "\n",
    "    # Busca última proposição cadastrada\n",
    "    dados_ano = SQLSelect(f'select Proposicao = max(Proposicao) from Proposicoes where Ano = {ano}')\n",
    "    ultima_proposicao = dados_ano['Proposicao'].loc[0]\n",
    "\n",
    "    # Verifica se foi identificado lançamento naquele ano\n",
    "    if ultima_proposicao == None:\n",
    "        proxima_proposicao = 1\n",
    "    else:\n",
    "        proxima_proposicao = int(ultima_proposicao) + 1 \n",
    "\n",
    "    # Captura e Insere dados na tabela\n",
    "    dados = Conteudo(proxima_proposicao,ano)\n",
    "    tabela = pd.DataFrame([dados])\n",
    "    SQLInsertProposicoes(tabela)"
   ]
  },
  {
   "cell_type": "code",
   "execution_count": null,
   "id": "85c90a6e",
   "metadata": {},
   "outputs": [],
   "source": [
    "InsereProximaProposicao(1996)\n",
    "SQLSelect('select *from Proposicoes')"
   ]
  },
  {
   "cell_type": "code",
   "execution_count": null,
   "id": "c1d9eca9",
   "metadata": {},
   "outputs": [],
   "source": [
    "# Limpando dados da tabela\n",
    "SQLTruncate('Proposicoes')\n",
    "\n",
    "# Visualizando a tabela\n",
    "SQLSelect('select *from Proposicoes')"
   ]
  },
  {
   "cell_type": "code",
   "execution_count": null,
   "id": "f542c851",
   "metadata": {},
   "outputs": [],
   "source": [
    "def BuscaGravaDadosAno(ano, quantidade = 10, erros_admissiveis = 2, segundos_espera = 0):\n",
    "\n",
    "    # erros\n",
    "    erros = 0\n",
    "\n",
    "    # variaveis para loop\n",
    "    i = 1\n",
    "    lista = []\n",
    "\n",
    "    while erros <= erros_admissiveis:\n",
    "\n",
    "        try:\n",
    "            InsereProximaProposicao(ano)\n",
    "        except:\n",
    "            erros += 1\n",
    "            pass\n",
    "\n",
    "        time.sleep(segundos_espera)\n",
    "\n",
    "        # carregamento incremental das variáveis\n",
    "        i +=1"
   ]
  },
  {
   "cell_type": "code",
   "execution_count": null,
   "id": "986db491",
   "metadata": {},
   "outputs": [],
   "source": [
    "# Limpando dados da tabela\n",
    "SQLTruncate('Proposicoes')\n",
    "\n",
    "# Visualizando a tabela\n",
    "SQLSelect('select *from Proposicoes')"
   ]
  },
  {
   "cell_type": "code",
   "execution_count": null,
   "id": "74ff65c3",
   "metadata": {},
   "outputs": [],
   "source": [
    "ano_inicial = 1996\n",
    "ano_final = 2021\n",
    "\n",
    "for i in list(range(ano_inicial, ano_final+1)):\n",
    "    print('Iniciando gravação dos dados do ano: ',i)\n",
    "    try:\n",
    "        BuscaGravaDadosAno(i, quantidade = 999999)\n",
    "    except:\n",
    "        pass\n",
    "    \n",
    "print('Inserção finalizada')"
   ]
  }
 ],
 "metadata": {
  "kernelspec": {
   "display_name": "Matheus Fellipe",
   "language": "python",
   "name": "python3"
  },
  "language_info": {
   "codemirror_mode": {
    "name": "ipython",
    "version": 3
   },
   "file_extension": ".py",
   "mimetype": "text/x-python",
   "name": "python",
   "nbconvert_exporter": "python",
   "pygments_lexer": "ipython3",
   "version": "3.7.4"
  }
 },
 "nbformat": 4,
 "nbformat_minor": 5
}
